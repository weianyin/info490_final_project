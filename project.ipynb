{
  "nbformat": 4,
  "nbformat_minor": 0,
  "metadata": {
    "colab": {
      "name": "How to maintain a work life balance?",
      "provenance": [],
      "collapsed_sections": []
    },
    "kernelspec": {
      "display_name": "Python 3",
      "name": "python3"
    }
  },
  "cells": [
    {
      "cell_type": "code",
      "metadata": {
        "id": "MPrJ8HLyC-Cd"
      },
      "source": [
        "# Keep this code cell here\n",
        "# Project title will be used by the reviewer\n",
        "PROJECT_TITLE = \"MH2_FALL2020_Project\"\n",
        "NOTEBOOK_ID   = \"1jcCwJDjLQhTfzc8SjwJD4QENQDiC-kVu\"\n",
        "VERSION = \"FA20.10.10.2020\""
      ],
      "execution_count": null,
      "outputs": []
    },
    {
      "cell_type": "markdown",
      "metadata": {
        "id": "ui5eQuo1DMEI"
      },
      "source": [
        "\n",
        "---\n",
        "# Project Introduction\n",
        "\n",
        "What are the most significant contributers to a healthy lifestyle? What we can do to maintain mental health while achieving sustainable development? This project will look into a dataset containing $12757$ responses with $23$ attributes from **Your Work-Life Balance** survey, which evaluates how we thrive in both our professional and personal lives. The survey questions reveals how well we shape our lifestyle to maximize our overall life satisfaction from the following five aspects:\n",
        "\n",
        "- Physical health\n",
        "- Mental health\n",
        "- Professional development\n",
        "- Social connection\n",
        "- Life meaning\n",
        "\n",
        "The project will explore correlation between two response variables, _stress level_ and _personal achievement_. But more importantly, it will attempt to reveal how stress and achievement are related to our life aspects. For example, does eating more fruits and vegetables help reduce stress, or does performing meditation helps us achieve our goals? Through developing models to predict stress and achievement using machine learning techniques, I hope the results will provide insights in how we can adjust our lifestyles to optimize our well-beings.\n",
        "\n",
        "![](https://drive.google.com/uc?id=1_i0g9MLZup94-1IINxZKmFFt16DT-zft)\n",
        "\n",
        "**Let's get started!**\n",
        "\n",
        "\n",
        "<!-- this is a comment -->\n",
        "<!-- \n",
        "\n",
        "   VIDEO INSTRUCTIONS\n",
        "\n",
        "1. upload to google drive, get the share URL\n",
        "https://drive.google.com/file/d/1yGvY5a0KAqnOKf5kLh5EbbbRY4_LonAX\n",
        "\n",
        "2. convert to export URL:\n",
        "http://drive.google.com/uc?export=download&id=1yGvY5a0KAqnOKf5kLh5EbbbRY4_LonAX\n",
        "\n",
        "3. OR use some other service to host your video:\n",
        "https://storage.googleapis.com/uicourse/videos/dmap/Exact%20Instructions%20Challenge%20-%20THIS%20is%20why%20my%20kids%20hate%20me.%20%20Josh%20Darnit.mp4\n",
        "\n",
        "replace the src=\"YOUR VIDEO URL\" in the <source> tag in the next cell below\n",
        "-->"
      ]
    },
    {
      "cell_type": "code",
      "metadata": {
        "colab": {
          "base_uri": "https://localhost:8080/",
          "height": 410
        },
        "id": "JQo5zhkeEuXL",
        "outputId": "c9d8d288-53db-46a5-c595-2fd6e7477579"
      },
      "source": [
        "%%html\n",
        "<!-- this should be the ONLY html cell in the notebook: use markdown -->\n",
        "<div style=\"font-size:36px; max-width:800px; font-family:Times, serif;\">\n",
        " Video that walks through the notebook\n",
        "<video width=\"600\" controls>\n",
        "  <source src=\"https://drive.google.com/uc?export=download&id=1JPeRDybVURwbgCJEPLxiQBJdNnFT1YSe\"\n",
        "  type=\"video/mp4\">\n",
        "</video>\n",
        "</div>"
      ],
      "execution_count": null,
      "outputs": [
        {
          "output_type": "display_data",
          "data": {
            "text/html": [
              "<!-- this should be the ONLY html cell in the notebook: use markdown -->\n",
              "<div style=\"font-size:36px; max-width:800px; font-family:Times, serif;\">\n",
              " Video that walks through the notebook\n",
              "<video width=\"600\" controls>\n",
              "  <source src=\"https://drive.google.com/uc?export=download&id=1JPeRDybVURwbgCJEPLxiQBJdNnFT1YSe\"\n",
              "  type=\"video/mp4\">\n",
              "</video>\n",
              "</div>"
            ],
            "text/plain": [
              "<IPython.core.display.HTML object>"
            ]
          },
          "metadata": {
            "tags": []
          }
        }
      ]
    },
    {
      "cell_type": "code",
      "metadata": {
        "id": "4ZK0-f54UAtE"
      },
      "source": [
        "# add your imports here for your entire project\n",
        "import pandas as pd\n",
        "import numpy as np\n",
        "import io\n",
        "import requests\n",
        "import matplotlib.pyplot as plt\n",
        "import seaborn as sns\n",
        "import sklearn.model_selection\n",
        "from sklearn.model_selection import RepeatedKFold\n",
        "from sklearn.ensemble import RandomForestRegressor\n",
        "import sklearn.linear_model as lm"
      ],
      "execution_count": null,
      "outputs": []
    },
    {
      "cell_type": "code",
      "metadata": {
        "id": "fxEj3oP7O553"
      },
      "source": [
        "# read in data\n",
        "file_id = 'https://drive.google.com/file/d/18zSk8UIDRfWvdo1E_ksfdSzbdxU7j20q/view?usp=sharing'.split('/')[-2]\n",
        "dwn_url='https://drive.google.com/uc?export=download&id=' + file_id\n",
        "csv_raw = requests.get(dwn_url).text\n",
        "url = io.StringIO(csv_raw)\n",
        "life = pd.read_csv(url)"
      ],
      "execution_count": null,
      "outputs": []
    },
    {
      "cell_type": "markdown",
      "metadata": {
        "id": "Ctvf_n7dhXCs"
      },
      "source": [
        "# Data Acquisition, Selection, Cleaning\n",
        "\n",
        "The dataset contains 12756 responses from **Your Work-Life Balance survey**. For details on each of the survey questions, check [link to survey](http://www.authentic-happiness.com/your-life-satisfaction-score)\n",
        "\n",
        "Peak of the data:"
      ]
    },
    {
      "cell_type": "code",
      "metadata": {
        "colab": {
          "base_uri": "https://localhost:8080/",
          "height": 309
        },
        "id": "T7ytQMFchmtu",
        "outputId": "b71d30fc-b471-4975-c611-2d0d84408c00"
      },
      "source": [
        "life.head(5)"
      ],
      "execution_count": null,
      "outputs": [
        {
          "output_type": "execute_result",
          "data": {
            "text/html": [
              "<div>\n",
              "<style scoped>\n",
              "    .dataframe tbody tr th:only-of-type {\n",
              "        vertical-align: middle;\n",
              "    }\n",
              "\n",
              "    .dataframe tbody tr th {\n",
              "        vertical-align: top;\n",
              "    }\n",
              "\n",
              "    .dataframe thead th {\n",
              "        text-align: right;\n",
              "    }\n",
              "</style>\n",
              "<table border=\"1\" class=\"dataframe\">\n",
              "  <thead>\n",
              "    <tr style=\"text-align: right;\">\n",
              "      <th></th>\n",
              "      <th>Timestamp</th>\n",
              "      <th>FRUITS_VEGGIES</th>\n",
              "      <th>DAILY_STRESS</th>\n",
              "      <th>PLACES_VISITED</th>\n",
              "      <th>CORE_CIRCLE</th>\n",
              "      <th>SUPPORTING_OTHERS</th>\n",
              "      <th>SOCIAL_NETWORK</th>\n",
              "      <th>ACHIEVEMENT</th>\n",
              "      <th>DONATION</th>\n",
              "      <th>BMI_RANGE</th>\n",
              "      <th>TODO_COMPLETED</th>\n",
              "      <th>FLOW</th>\n",
              "      <th>DAILY_STEPS</th>\n",
              "      <th>LIVE_VISION</th>\n",
              "      <th>SLEEP_HOURS</th>\n",
              "      <th>LOST_VACATION</th>\n",
              "      <th>DAILY_SHOUTING</th>\n",
              "      <th>SUFFICIENT_INCOME</th>\n",
              "      <th>PERSONAL_AWARDS</th>\n",
              "      <th>TIME_FOR_PASSION</th>\n",
              "      <th>DAILY_MEDITATION</th>\n",
              "      <th>AGE</th>\n",
              "      <th>GENDER</th>\n",
              "    </tr>\n",
              "  </thead>\n",
              "  <tbody>\n",
              "    <tr>\n",
              "      <th>0</th>\n",
              "      <td>7/7/15</td>\n",
              "      <td>3</td>\n",
              "      <td>2</td>\n",
              "      <td>2</td>\n",
              "      <td>5</td>\n",
              "      <td>0</td>\n",
              "      <td>5</td>\n",
              "      <td>2</td>\n",
              "      <td>0</td>\n",
              "      <td>1</td>\n",
              "      <td>6</td>\n",
              "      <td>4</td>\n",
              "      <td>5</td>\n",
              "      <td>0</td>\n",
              "      <td>7</td>\n",
              "      <td>5</td>\n",
              "      <td>5</td>\n",
              "      <td>1</td>\n",
              "      <td>4</td>\n",
              "      <td>0</td>\n",
              "      <td>5</td>\n",
              "      <td>36 to 50</td>\n",
              "      <td>Female</td>\n",
              "    </tr>\n",
              "    <tr>\n",
              "      <th>1</th>\n",
              "      <td>7/7/15</td>\n",
              "      <td>2</td>\n",
              "      <td>3</td>\n",
              "      <td>4</td>\n",
              "      <td>3</td>\n",
              "      <td>8</td>\n",
              "      <td>10</td>\n",
              "      <td>5</td>\n",
              "      <td>2</td>\n",
              "      <td>2</td>\n",
              "      <td>5</td>\n",
              "      <td>2</td>\n",
              "      <td>5</td>\n",
              "      <td>5</td>\n",
              "      <td>8</td>\n",
              "      <td>2</td>\n",
              "      <td>2</td>\n",
              "      <td>2</td>\n",
              "      <td>3</td>\n",
              "      <td>2</td>\n",
              "      <td>6</td>\n",
              "      <td>36 to 50</td>\n",
              "      <td>Female</td>\n",
              "    </tr>\n",
              "    <tr>\n",
              "      <th>2</th>\n",
              "      <td>7/7/15</td>\n",
              "      <td>2</td>\n",
              "      <td>3</td>\n",
              "      <td>3</td>\n",
              "      <td>4</td>\n",
              "      <td>4</td>\n",
              "      <td>10</td>\n",
              "      <td>3</td>\n",
              "      <td>2</td>\n",
              "      <td>2</td>\n",
              "      <td>2</td>\n",
              "      <td>2</td>\n",
              "      <td>4</td>\n",
              "      <td>5</td>\n",
              "      <td>8</td>\n",
              "      <td>10</td>\n",
              "      <td>2</td>\n",
              "      <td>2</td>\n",
              "      <td>4</td>\n",
              "      <td>8</td>\n",
              "      <td>3</td>\n",
              "      <td>36 to 50</td>\n",
              "      <td>Female</td>\n",
              "    </tr>\n",
              "    <tr>\n",
              "      <th>3</th>\n",
              "      <td>7/7/15</td>\n",
              "      <td>3</td>\n",
              "      <td>3</td>\n",
              "      <td>10</td>\n",
              "      <td>3</td>\n",
              "      <td>10</td>\n",
              "      <td>7</td>\n",
              "      <td>2</td>\n",
              "      <td>5</td>\n",
              "      <td>2</td>\n",
              "      <td>3</td>\n",
              "      <td>5</td>\n",
              "      <td>5</td>\n",
              "      <td>0</td>\n",
              "      <td>5</td>\n",
              "      <td>7</td>\n",
              "      <td>5</td>\n",
              "      <td>1</td>\n",
              "      <td>5</td>\n",
              "      <td>2</td>\n",
              "      <td>0</td>\n",
              "      <td>51 or more</td>\n",
              "      <td>Female</td>\n",
              "    </tr>\n",
              "    <tr>\n",
              "      <th>4</th>\n",
              "      <td>7/7/15</td>\n",
              "      <td>5</td>\n",
              "      <td>1</td>\n",
              "      <td>3</td>\n",
              "      <td>3</td>\n",
              "      <td>10</td>\n",
              "      <td>4</td>\n",
              "      <td>2</td>\n",
              "      <td>4</td>\n",
              "      <td>2</td>\n",
              "      <td>5</td>\n",
              "      <td>0</td>\n",
              "      <td>5</td>\n",
              "      <td>0</td>\n",
              "      <td>7</td>\n",
              "      <td>0</td>\n",
              "      <td>0</td>\n",
              "      <td>2</td>\n",
              "      <td>8</td>\n",
              "      <td>1</td>\n",
              "      <td>5</td>\n",
              "      <td>51 or more</td>\n",
              "      <td>Female</td>\n",
              "    </tr>\n",
              "  </tbody>\n",
              "</table>\n",
              "</div>"
            ],
            "text/plain": [
              "  Timestamp  FRUITS_VEGGIES DAILY_STRESS  ...  DAILY_MEDITATION         AGE  GENDER\n",
              "0    7/7/15               3            2  ...                 5    36 to 50  Female\n",
              "1    7/7/15               2            3  ...                 6    36 to 50  Female\n",
              "2    7/7/15               2            3  ...                 3    36 to 50  Female\n",
              "3    7/7/15               3            3  ...                 0  51 or more  Female\n",
              "4    7/7/15               5            1  ...                 5  51 or more  Female\n",
              "\n",
              "[5 rows x 23 columns]"
            ]
          },
          "metadata": {
            "tags": []
          },
          "execution_count": 36
        }
      ]
    },
    {
      "cell_type": "markdown",
      "metadata": {
        "id": "GJvmagnZDPjW"
      },
      "source": [
        "\n",
        "**Variable Descriptions**:\n",
        "- `Daily Stress` (Response Variable): stress level\n",
        "- `Achievement` (Response Variable): number of personal achievements\n",
        "- `Fruit and Veggies`: number of servings per day, enter 5 if 5 or more\n",
        "- `Places Visited`: new place visited\n",
        "- `Core Circle`: number of people close to you\n",
        "- `Donations`: number of donations for good cause\n",
        "- `Supporting Others`: people you help\n",
        "- `Social Network`: people you interact with\n",
        "- `BMI Range`: 1 = below 25, 2 = above 25\n",
        "- `ToDo Completed`: how well you complete your weekly todo list\n",
        "- `Flow`: number of hours you experience fully immersed in performing an activity\n",
        "- `Daily Steps`: (thousands) of steps you walk\n",
        "- `Live Vision`: for how many years ahead is your life vision clear for\n",
        "- `Sleep hours`: 1 to 10\n",
        "- `Lost Vacation`: unused vacation day\n",
        "- `Daily Shouting`: 1 to 10\n",
        "- `Sufficient Income`: 1 = insufficient, 2 = sufficient\n",
        "- `Personal Awards`: number of personal awards\n",
        "- `Time For Passion`: time spent doing what you are passionate about\n",
        "- `Daily Meditation`: number of times to think about yourself\n",
        "- `Age`: 1 = 'Less than 20', 2 = '21 to 35', 3 = '36 to 50', 4 = '51 or more'\n",
        "- `Gender`: 0 is male, 1 is female\n",
        "\n",
        "**Data Cleaning**\n",
        "1. Check for _NAN_ values and values that need to be corrected:\n",
        "- There are no missing values in this dataset\n",
        "- Observe that the $10006$th observation contains suspect value in *Daily Stress* column. Therefore, it should be removed.\n",
        "\n"
      ]
    },
    {
      "cell_type": "code",
      "metadata": {
        "id": "_SadZH3gh9p4",
        "colab": {
          "base_uri": "https://localhost:8080/",
          "height": 35
        },
        "outputId": "a002c7b4-1811-4b15-c622-70c4621adcd2"
      },
      "source": [
        "life[\"DAILY_STRESS\"][10005]"
      ],
      "execution_count": null,
      "outputs": [
        {
          "output_type": "execute_result",
          "data": {
            "application/vnd.google.colaboratory.intrinsic+json": {
              "type": "string"
            },
            "text/plain": [
              "'1/1/00'"
            ]
          },
          "metadata": {
            "tags": []
          },
          "execution_count": 37
        }
      ]
    },
    {
      "cell_type": "markdown",
      "metadata": {
        "id": "wDYcTJEkiEqP"
      },
      "source": [
        "\n",
        "\n",
        "2. Feature engineering\n",
        "- Since we are not doing time-series analysis, the *Time Stamp* column will be dropped.\n",
        "- *BMI Range* only contains 2 values and will be converted into a categorical variable\n",
        "- *Sufficient Income* only contains 2 values and will be converted into a categorical variable\n",
        "- The rest of the features are all ordered and will be converted into continuous variables\n"
      ]
    },
    {
      "cell_type": "code",
      "metadata": {
        "id": "PLKFnyCjhLtg"
      },
      "source": [
        "# This section prepares the data for analysis\n",
        "life = life.drop('Timestamp', axis = 1) # drop Timestamp since we are not doing time series analysis\n",
        "life = life.drop([10005]) # remove suspect value\n",
        "\n",
        "life.columns= life.columns.str.lower() # convert all variable names to lowercase\n",
        "\n",
        "# rename age categories \n",
        "life.loc[(life.age == 'Less than 20'),'age']='a0'\n",
        "life.loc[(life.age == '21 to 35'),'age']='a1'\n",
        "life.loc[(life.age == '36 to 50'),'age']='a2'\n",
        "life.loc[(life.age == '51 or more'),'age']='a3'\n",
        "life.age = life.age.astype('category') # convert it into a categorical variable\n",
        "\n",
        "# convert gender into a categorical variable\n",
        "life.gender = life.gender.astype('category')\n",
        "\n",
        "# convert sufficient_income into a categorical variable\n",
        "life.sufficient_income = life.sufficient_income.astype('category')\n",
        "\n",
        "# convert bmi_range into a categorical variable\n",
        "life.bmi_range = life.bmi_range.astype('category')\n",
        "\n",
        "# convert daily_stress into a numeric variable\n",
        "life.daily_stress = life.daily_stress.astype('int')\n",
        "\n"
      ],
      "execution_count": null,
      "outputs": []
    },
    {
      "cell_type": "code",
      "metadata": {
        "id": "FaJY2oDSoFo5",
        "colab": {
          "base_uri": "https://localhost:8080/"
        },
        "outputId": "4230ba85-8871-4344-adb9-1c514a75b286"
      },
      "source": [
        "life.dtypes # double check data types"
      ],
      "execution_count": null,
      "outputs": [
        {
          "output_type": "execute_result",
          "data": {
            "text/plain": [
              "fruits_veggies          int64\n",
              "daily_stress            int64\n",
              "places_visited          int64\n",
              "core_circle             int64\n",
              "supporting_others       int64\n",
              "social_network          int64\n",
              "achievement             int64\n",
              "donation                int64\n",
              "bmi_range            category\n",
              "todo_completed          int64\n",
              "flow                    int64\n",
              "daily_steps             int64\n",
              "live_vision             int64\n",
              "sleep_hours             int64\n",
              "lost_vacation           int64\n",
              "daily_shouting          int64\n",
              "sufficient_income    category\n",
              "personal_awards         int64\n",
              "time_for_passion        int64\n",
              "daily_meditation        int64\n",
              "age                  category\n",
              "gender               category\n",
              "dtype: object"
            ]
          },
          "metadata": {
            "tags": []
          },
          "execution_count": 39
        }
      ]
    },
    {
      "cell_type": "markdown",
      "metadata": {
        "id": "eziTKyclikIX"
      },
      "source": [
        "3. Analysis Techniques\n",
        "\n",
        "- Notice that *Daily Stress* and *Achievement* are ordered variables. Therefore, we can fit linear regression models will separately on these two variables. I plan to try *sklearn.linear_model.LinearRegression* and *RandomForestRegressor* to see which algorithm outputs better models."
      ]
    },
    {
      "cell_type": "markdown",
      "metadata": {
        "id": "cZiK2fxwGz80"
      },
      "source": [
        "# Data Exploration"
      ]
    },
    {
      "cell_type": "markdown",
      "metadata": {
        "id": "Bfy2k1jYfaLT"
      },
      "source": [
        "###Distribution of response variables:"
      ]
    },
    {
      "cell_type": "markdown",
      "metadata": {
        "id": "ChUMGwxGLuuK"
      },
      "source": [
        "`achievement` is right skewed (with mean $>$ median), probably due to a large number in `achievement` $=$ 10"
      ]
    },
    {
      "cell_type": "code",
      "metadata": {
        "id": "bV-BLd3gff-2",
        "colab": {
          "base_uri": "https://localhost:8080/",
          "height": 312
        },
        "outputId": "5a8a7626-871d-4482-81a7-2b2bd78e3eb8"
      },
      "source": [
        "#plt.figure(figsize=(10, 4))\n",
        "plt.hist(life['achievement'])\n",
        "plt.title('Achievement distribution')\n",
        "plt.xlabel('Achievement')"
      ],
      "execution_count": null,
      "outputs": [
        {
          "output_type": "execute_result",
          "data": {
            "text/plain": [
              "Text(0.5, 0, 'Achievement')"
            ]
          },
          "metadata": {
            "tags": []
          },
          "execution_count": 40
        },
        {
          "output_type": "display_data",
          "data": {
            "image/png": "[encoded data removed]",
            "text/plain": [
              "<Figure size 432x288 with 1 Axes>"
            ]
          },
          "metadata": {
            "tags": [],
            "needs_background": "light"
          }
        }
      ]
    },
    {
      "cell_type": "markdown",
      "metadata": {
        "id": "xfOIGu-IMb7i"
      },
      "source": [
        "`daily_stress` is left skewed (with mean $<$ median). This indicates that most people that took the survey did not experience serious stress."
      ]
    },
    {
      "cell_type": "code",
      "metadata": {
        "id": "VzrhSl2Nglxu",
        "colab": {
          "base_uri": "https://localhost:8080/",
          "height": 312
        },
        "outputId": "f0806efb-c33d-4f0d-a1f2-bb3b4b24a882"
      },
      "source": [
        "plt.hist(life['daily_stress'])\n",
        "plt.title('Distribution of Daily stress level')\n",
        "plt.xlabel('Daily stress')"
      ],
      "execution_count": null,
      "outputs": [
        {
          "output_type": "execute_result",
          "data": {
            "text/plain": [
              "Text(0.5, 0, 'Daily stress')"
            ]
          },
          "metadata": {
            "tags": []
          },
          "execution_count": 41
        },
        {
          "output_type": "display_data",
          "data": {
            "image/png": "[encoded data removed]",
            "text/plain": [
              "<Figure size 432x288 with 1 Axes>"
            ]
          },
          "metadata": {
            "tags": [],
            "needs_background": "light"
          }
        }
      ]
    },
    {
      "cell_type": "markdown",
      "metadata": {
        "id": "rmHOMVl0Ef7Z"
      },
      "source": [
        "###Distribution of Categorical predictors"
      ]
    },
    {
      "cell_type": "markdown",
      "metadata": {
        "id": "HC53So-1M_XA"
      },
      "source": [
        "- teenagers only occupy a small proportion of the sample\n",
        "- It seems that females were more likely to take the survey\n",
        "- Most people who took the survey have normal `bmi`\n",
        "- Most people who took the survey have sufficient income (might lead to low average `daily_stress` )"
      ]
    },
    {
      "cell_type": "code",
      "metadata": {
        "colab": {
          "base_uri": "https://localhost:8080/",
          "height": 290
        },
        "id": "Eaj7fFAHC3FU",
        "outputId": "5045ef6e-fdf9-4c15-9492-c16374cb1604"
      },
      "source": [
        "age = life.groupby('age').size()\n",
        "gender = life.groupby('gender').size()\n",
        "bmi = life.groupby('bmi_range').size()\n",
        "income = life.groupby('sufficient_income').size()\n",
        "\n",
        "fig, ax = plt.subplots(1, 4, figsize = (20,10))\n",
        "\n",
        "ax[0].pie(x=age, autopct=\"%.1f%%\", explode=[0.05]*4, labels=age.keys(), pctdistance=0.5)\n",
        "ax[0].set_title('age')\n",
        "\n",
        "ax[1].pie(x=gender, autopct=\"%.1f%%\", explode=[0.05]*2, labels = gender.keys(), pctdistance=0.5)\n",
        "ax[1].set_title('gender')\n",
        "\n",
        "ax[2].pie(x=bmi, autopct=\"%.1f%%\", explode=[0.05]*2, labels=bmi.keys(), pctdistance=0.5)\n",
        "ax[2].set_title('bmi')\n",
        "\n",
        "ax[3].pie(x=income, autopct=\"%.1f%%\", explode=[0.05]*2, labels=income.keys(), pctdistance=0.5)\n",
        "ax[3].set_title('income')"
      ],
      "execution_count": null,
      "outputs": [
        {
          "output_type": "execute_result",
          "data": {
            "text/plain": [
              "Text(0.5, 1.0, 'income')"
            ]
          },
          "metadata": {
            "tags": []
          },
          "execution_count": 42
        },
        {
          "output_type": "display_data",
          "data": {
            "image/png": "[encoded data removed]",
            "text/plain": [
              "<Figure size 1440x720 with 4 Axes>"
            ]
          },
          "metadata": {
            "tags": []
          }
        }
      ]
    },
    {
      "cell_type": "markdown",
      "metadata": {
        "id": "Pew9f_xYOD9A"
      },
      "source": [
        "###Variable correlation"
      ]
    },
    {
      "cell_type": "markdown",
      "metadata": {
        "id": "Zt5TkWqmL9ZM"
      },
      "source": [
        "It seems that `achievement` and `daily_stress` are slightly negatively correlated, which might mean that the more stress a person experiences, the less achievement he may obtain. "
      ]
    },
    {
      "cell_type": "code",
      "metadata": {
        "colab": {
          "base_uri": "https://localhost:8080/"
        },
        "id": "bVUMtRijLyvg",
        "outputId": "6118e8d6-863a-40a0-c414-2d37cb115a3c"
      },
      "source": [
        "life['achievement'].corr(life['daily_stress'])"
      ],
      "execution_count": null,
      "outputs": [
        {
          "output_type": "execute_result",
          "data": {
            "text/plain": [
              "-0.1207857817975586"
            ]
          },
          "metadata": {
            "tags": []
          },
          "execution_count": 43
        }
      ]
    },
    {
      "cell_type": "markdown",
      "metadata": {
        "id": "5zHRJEo0RFeO"
      },
      "source": [
        "Since there are lots of features in this data set, it will be good to test for how each feature is related to the response variables. To visualize the correlation, I employed the heatmap function from seaborn."
      ]
    },
    {
      "cell_type": "code",
      "metadata": {
        "id": "UG9eqDHpbdna"
      },
      "source": [
        "factor_features = ['bmi_range', 'age', 'gender', 'sufficient_income']\n",
        "corr = (life.drop(factor_features, axis = 1)).corr() # compute correlation between numerical variables"
      ],
      "execution_count": null,
      "outputs": []
    },
    {
      "cell_type": "code",
      "metadata": {
        "colab": {
          "base_uri": "https://localhost:8080/",
          "height": 686
        },
        "id": "NCm7bwW0O3j7",
        "outputId": "d7aed427-9187-4aae-fb55-ed7324bcde3b"
      },
      "source": [
        "plt.figure(figsize=(20,10))\n",
        "ax = sns.heatmap(\n",
        "    corr, \n",
        "    vmin=-1, vmax=1, center=0,\n",
        "    cmap=sns.diverging_palette(20, 220, n=200),\n",
        "    square=True\n",
        ")\n",
        "ax.set_xticklabels(\n",
        "    ax.get_xticklabels(),\n",
        "    rotation=45,\n",
        "    horizontalalignment='right'\n",
        ")\n",
        "ax.set_title('Correlation between numerical variables')"
      ],
      "execution_count": null,
      "outputs": [
        {
          "output_type": "execute_result",
          "data": {
            "text/plain": [
              "Text(0.5, 1.0, 'Correlation between numerical variables')"
            ]
          },
          "metadata": {
            "tags": []
          },
          "execution_count": 45
        },
        {
          "output_type": "display_data",
          "data": {
            "image/png": "[encoded data removed]",
            "text/plain": [
              "<Figure size 1440x720 with 2 Axes>"
            ]
          },
          "metadata": {
            "tags": [],
            "needs_background": "light"
          }
        }
      ]
    },
    {
      "cell_type": "markdown",
      "metadata": {
        "id": "prXB49VHXJVK"
      },
      "source": [
        "`achievement` has a noticeable correlation ($\\geq 0.2$) with:\n",
        "\n",
        "- `core_circle`\n",
        "- `donation`\n",
        "- `places_visited`\n",
        "- `supporting_others`\n",
        "- `social_network`\n",
        "- `todo_completed`\n",
        "- `flow`\n",
        "- `live_vision`\n",
        "- `personal_awards`\n",
        "- `time_for_passion`\n",
        "\n",
        "`daily_stress` has a noticeable positive correlation with:\n",
        "- `daily_shouting`\n",
        "- `lost_vocation`\n",
        "\n",
        "and negative correlation with:\n",
        "- `daily_meditation`\n",
        "- `todo_completed`\n",
        "- `time_for_passion`\n",
        "- `sleep_hours`\n",
        "\n",
        "**Initial observation**\n",
        "\n",
        "Features positively contribute to `achievement` all negatively contribute to `daily_stress`, which is expected, since the two responses are negatively correlated."
      ]
    },
    {
      "cell_type": "markdown",
      "metadata": {
        "id": "AVqckiHyDUkD"
      },
      "source": [
        "# Data Analysis"
      ]
    },
    {
      "cell_type": "markdown",
      "metadata": {
        "id": "6h1nKAS5SqTa"
      },
      "source": [
        "### Splitting data\n",
        "\n",
        "Now we will split the data set into training and testing set according to a $4:1$ ratio. We will then fit models separately on the two response variables.\n",
        "\n",
        "**Feature engineering**\n",
        "1. Errors will occur when non_numerical values are plugged into `sklearn` algorithms. To deal with this, we will use _One-Hot-Encoding_ to transform them into binary variables. Below is how One-Hot-Encoding works:\n",
        "\n",
        "![](https://drive.google.com/uc?id=1Ngjcn2p-MLboWqLR-Zmk7rzE2uafyFag)\n",
        "\n",
        "\n",
        "**K Folds Cross Validation**\n",
        "\n",
        "Apart from manually train/test splitting the data, we can also use the `RepeatedKFold` method to do `K folds-cross-validation` to see how a model performs on the data set.\n",
        "\n",
        "Here is how it works:\n",
        "\n",
        "1. First shuffle the dataset randomly.\n",
        "2. Split the dataset into k groups.\n",
        "3. For each group:\n",
        "- Select a group as test set\n",
        "- Set the remaining groups as training set\n",
        "- Fit a model on the training set and evaluate it on the test set\n",
        "- Record the score\n",
        "- Repeat\n",
        "4. The overall performance of the model will be evaluated by averaging the score of the $k$ models.\n",
        "\n",
        "\n",
        "![](https://drive.google.com/uc?id=1GtAtHhLVwj06xlIQ6oDRbRwJI91JETlt)\n"
      ]
    },
    {
      "cell_type": "markdown",
      "metadata": {
        "id": "0McG-G0d-yOh"
      },
      "source": [
        "The following function will manually split train/test set."
      ]
    },
    {
      "cell_type": "code",
      "metadata": {
        "id": "TXeo1vR1YSgg"
      },
      "source": [
        "# train/test splitter\n",
        "def split_data(X, y):\n",
        "  return sklearn.model_selection.train_test_split(X, y, test_size = 0.2, random_state = 1)"
      ],
      "execution_count": null,
      "outputs": []
    },
    {
      "cell_type": "markdown",
      "metadata": {
        "id": "6KB3VUTn-7VP"
      },
      "source": [
        "### Machine learning algorithms\n",
        "\n",
        "It will be time-consuming and expensive to use all features in the original data set. Therefore, algorithms that include variable selection are desired. We will use LASSO Regression and Random Forest here.\n",
        "\n",
        "**LASSO Regression**\n",
        "\n",
        "Lasso regression is a type of linear regression, including a penalty term. The acronym 'LASSO' stands for Least Absolute Shrinkage and Selection Operator.\n",
        "\n",
        "How it performs variable selection:\n",
        "\n",
        "Lasso regression uses $L1$ regularization that adds a penalty equal to the absolute value of the coefficients (excluding the intercept). Larger penalties eliminates more coefficients, which is the idea of producing simpler models. The goal is to minimize\n",
        "\n",
        "$\\sum\\limits_{i=1}^n (y_i - \\sum\\limits_{j} x_{ij}\\beta_{ij})^2 + \\lambda \\sum\\limits_{j=1}^n \\lvert \\beta_j \\rvert)$\n",
        "\n",
        "The tuning parameter $\\lambda$ controls the strength of the $L1$ penalty.\n",
        "\n",
        "In this analysis, a list of $100$ $\\lambda$s ranging from $0$ to $1$ will be used.\n",
        "\n",
        "**Random Forest**\n",
        "\n",
        "Random forest is a supervised learning algorithm. It constructs a number of decision trees on the training set and output _the mode of the classes_ or _mean prediction_ of the individual trees based on the response variable type. \n",
        "\n",
        "In our scenario, we will use Random Forest to do regression.\n",
        "\n",
        "![](https://drive.google.com/uc?id=11jjsZda6IEuKft4EsiuWAOHscur4PMgX)\n",
        "\n",
        "\n",
        "\n"
      ]
    },
    {
      "cell_type": "markdown",
      "metadata": {
        "id": "T5GRoU3VS1JC"
      },
      "source": [
        "### Predicting achievement\n",
        "\n",
        "The following class contains all we need to develop models to predict `achievement`.\n",
        "\n",
        "The class has the following attributes:\n",
        "\n",
        "- `X`: the feature matrix (each column represents a feature)\n",
        "- `y`: reponse variable (achievement)\n",
        "- `X_trn`: the feature matrix of the training set\n",
        "- `X_tst`: feature matrix of the test set\n",
        "- `y_trn`: response variable of the training set\n",
        "- `y_tst`: response variable of the test set\n",
        "\n",
        "and 2 methods:\n",
        "\n",
        "- `fit_lasso`: with 10 folds cross validation, fits Lasso regression model in each fold using a list of given $\\lambda$s\n",
        "\n",
        "- `fit_rf`: fits Random Forest models with 1000 Decision trees on the training set\n"
      ]
    },
    {
      "cell_type": "code",
      "metadata": {
        "id": "HRwtMlD3cR7a"
      },
      "source": [
        "class achievement(object):\n",
        "\n",
        "  # the constructor takes in the entire life data set and split it into predictors and response (achievement)\n",
        "  def __init__(self, exclude=False):\n",
        "\n",
        "    # Creating predictors and reponses\n",
        "    # exclude indicates whether to use `age` and `gender` as predictors\n",
        "    if exclude == True:\n",
        "      X_raw = life.drop(['daily_stress', 'achievement', 'age', 'gender'], axis = 1)\n",
        "    else:\n",
        "      X_raw = life.drop(['daily_stress', 'achievement'], axis = 1) # X is a feature matrix containing all predictors\n",
        "\n",
        "    self.y = life['achievement']\n",
        "    \n",
        "    # Encode X using One Hot Encoding, since X contains categorical variables\n",
        "    self.X = pd.get_dummies(X_raw) # get_dummies automatically uses One Hot Encoding\n",
        "    \n",
        "    # split train/test set\n",
        "    self.X_trn, self.X_tst, self.y_trn, self.y_tst = split_data(self.X, self.y)\n",
        "  \n",
        "  def fit_lasso(self, lambdas = np.arange(0, 1.01, 0.01)):\n",
        "    # create 10 folds\n",
        "    cv = RepeatedKFold(n_splits=10, n_repeats=3, random_state=1)\n",
        "    # define LASSO model\n",
        "    lasso = lm.LassoCV(alphas=lambdas, cv=cv, n_jobs=-1) # n_jobs = -1 means using all CPUs\n",
        "    # fit model\n",
        "    lasso.fit(self.X, self.y)\n",
        "    return lasso\n",
        "\n",
        "  def fit_rf(self):\n",
        "    # fit Random Forest model on the training set\n",
        "    # models are evaluated based on mean squared error\n",
        "    rf = RandomForestRegressor(n_estimators=1000, n_jobs=-1, criterion='mse')\n",
        "    rf.fit(self.X_trn, self.y_trn) \n",
        "    return rf"
      ],
      "execution_count": null,
      "outputs": []
    },
    {
      "cell_type": "markdown",
      "metadata": {
        "id": "Toj12Khnj_le"
      },
      "source": [
        "### Predicting daily stress\n",
        "\n",
        "The following class contains all we need to develop models to predict `daily_stress`.\n",
        "\n",
        "The class has the following attributes:\n",
        "\n",
        "- `X`: the feature matrix (each column represents a feature)\n",
        "- `y`: reponse variable (daily_stress)\n",
        "- `X_trn`: the feature matrix of the training set\n",
        "- `X_tst`: feature matrix of the test set\n",
        "- `y_trn`: response variable of the training set\n",
        "- `y_tst`: response variable of the test set\n",
        "\n",
        "and 2 methods:\n",
        "\n",
        "- `fit_lasso`: with 10 folds cross validation, fits Lasso regression model in each fold using a list of given $\\lambda$s\n",
        "\n",
        "- `fit_rf`: fits Random Forest models with 1000 Decision trees on the training set"
      ]
    },
    {
      "cell_type": "code",
      "metadata": {
        "id": "d5JagLzgentq"
      },
      "source": [
        "class daily_stress(object):\n",
        "\n",
        "  # the constructor takes in the entire life data set and split it into predictors and response (daily_stress)\n",
        "  def __init__(self, exclude=False):\n",
        "\n",
        "    # Creating predictors and reponses\n",
        "    # exclude indicates whether to use `age` and `gender` as predictors\n",
        "    if exclude == True:\n",
        "      X_raw = life.drop(['daily_stress', 'achievement', 'age', 'gender'], axis = 1)\n",
        "    else:\n",
        "      X_raw = life.drop(['daily_stress', 'achievement'], axis = 1) # X is a feature matrix containing all predictors\n",
        "\n",
        "    self.y = life['daily_stress']\n",
        "    \n",
        "    # Encode X using One Hot Encoding, since X contains categorical variables\n",
        "    self.X = pd.get_dummies(X_raw) # get_dummies automatically uses One Hot Encoding\n",
        "    \n",
        "    # split train/test set\n",
        "    self.X_trn, self.X_tst, self.y_trn, self.y_tst = split_data(self.X, self.y)\n",
        "  \n",
        "  # Lasso regression\n",
        "  def fit_lasso(self, lambdas = np.arange(0, 1.01, 0.01)):\n",
        "    # create 10 folds\n",
        "    cv = RepeatedKFold(n_splits=10, n_repeats=3, random_state=1)\n",
        "    # define LASSO model\n",
        "    lasso = lm.LassoCV(alphas=lambdas, cv=cv, n_jobs=-1)\n",
        "    # fit model\n",
        "    lasso.fit(self.X, self.y)\n",
        "    return lasso\n",
        "  \n",
        "  # Random Forest regression\n",
        "  def fit_rf(self):\n",
        "    # fit Random Forest model on the training set\n",
        "    # models are evaluated based on mean squared error\n",
        "    rf = RandomForestRegressor(n_estimators=1000, n_jobs=-1, criterion='mse')\n",
        "    rf.fit(self.X_trn, self.y_trn)\n",
        "    return rf"
      ],
      "execution_count": null,
      "outputs": []
    },
    {
      "cell_type": "markdown",
      "metadata": {
        "id": "B8qTqHWpJO51"
      },
      "source": [
        "### Now we can go ahead and fit the models!"
      ]
    },
    {
      "cell_type": "code",
      "metadata": {
        "id": "744mKyjtJRj9"
      },
      "source": [
        "# fit model to predict achievement\n",
        "predict_achieve = achievement()\n",
        "achieve_lasso = predict_achieve.fit_lasso() # fit lasso regression model\n",
        "achieve_rf = predict_achieve.fit_rf() # fit random forest model\n",
        "# may take a minute to run, along with some warning messages"
      ],
      "execution_count": null,
      "outputs": []
    },
    {
      "cell_type": "code",
      "metadata": {
        "id": "c1-g3IK3Cg25"
      },
      "source": [
        "# fit model to predict daily stress\n",
        "predict_stress = daily_stress()\n",
        "stress_lasso = predict_stress.fit_lasso() # fit lasso regression model\n",
        "stress_rf = predict_stress.fit_rf() # fit random forest model\n",
        "# this might take a minute to run and produce some warnings"
      ],
      "execution_count": null,
      "outputs": []
    },
    {
      "cell_type": "markdown",
      "metadata": {
        "id": "cWQ6481-lIXX"
      },
      "source": [
        "**How our models perform?**\n",
        "\n",
        "We will use the _coefficient of determination_ to evaluate the performance of model.\n",
        "\n",
        "The coefficient of determination is interpreted as the proportion of observed variation in response that can be explained by the model. Below is how it is computed:\n",
        "\n",
        "$R^2 = 1 - \\frac{\\sum_{i=1}^{n}(y_i - \\hat{y}_i)^2}{\\sum_{i=1}^{n}(y_i - \\bar{y})^2}$\n",
        "\n",
        "![](https://drive.google.com/uc?id=11zwGRQdJx9mXL6cnRQgvrL_9KvUG5fsI)\n",
        "\n",
        "$R^2$ reveals how many observations fall within the regression line. **A higher $R^2$ indicates a better fit.**"
      ]
    },
    {
      "cell_type": "markdown",
      "metadata": {
        "id": "h2CIplSUrRFW"
      },
      "source": [
        "**For `achievement`**"
      ]
    },
    {
      "cell_type": "code",
      "metadata": {
        "colab": {
          "base_uri": "https://localhost:8080/"
        },
        "id": "bjNCURQxJnmw",
        "outputId": "e99035e9-4aff-4a8b-beea-b7edbd368331"
      },
      "source": [
        "print('coefficient of determination of lasso model = ', \n",
        "      achieve_lasso.score(predict_achieve.X, predict_achieve.y)) # r2 value of fitted model\n",
        "# get_coefs(predict_achieve.X.columns, achieve_lasso.coef_)"
      ],
      "execution_count": null,
      "outputs": [
        {
          "output_type": "stream",
          "text": [
            "coefficient of determination of lasso model =  0.34756692932314726\n"
          ],
          "name": "stdout"
        }
      ]
    },
    {
      "cell_type": "code",
      "metadata": {
        "colab": {
          "base_uri": "https://localhost:8080/"
        },
        "id": "eHQtz2Ok2wFL",
        "outputId": "f1188516-1766-4814-b445-0a1b0992653e"
      },
      "source": [
        "print('coefficient of determination of random forest = ', \n",
        "      achieve_rf.score(predict_achieve.X_tst, predict_achieve.y_tst))\n",
        "# get_coefs(predict_achieve.X.columns, achieve_rf.feature_importances_)\n"
      ],
      "execution_count": null,
      "outputs": [
        {
          "output_type": "stream",
          "text": [
            "coefficient of determination of random forest =  0.3845986224624047\n"
          ],
          "name": "stdout"
        }
      ]
    },
    {
      "cell_type": "markdown",
      "metadata": {
        "id": "5VA3lK-5rXnH"
      },
      "source": [
        "**For `daily stress`**"
      ]
    },
    {
      "cell_type": "code",
      "metadata": {
        "id": "bnnxN2yUF8Wk",
        "colab": {
          "base_uri": "https://localhost:8080/"
        },
        "outputId": "8d9b6ac4-ef1d-4740-cc38-9923f0e3b918"
      },
      "source": [
        "print('correlation coefficient of lasso model = ', \n",
        "      stress_lasso.score(predict_stress.X, predict_stress.y)) # r2 value of fitted model\n",
        "# get_coefs(predict_stress.X.columns, stress_lasso.coef_)"
      ],
      "execution_count": null,
      "outputs": [
        {
          "output_type": "stream",
          "text": [
            "correlation coefficient of lasso model =  0.20648975894363972\n"
          ],
          "name": "stdout"
        }
      ]
    },
    {
      "cell_type": "code",
      "metadata": {
        "colab": {
          "base_uri": "https://localhost:8080/"
        },
        "id": "syRtnlMLGoLU",
        "outputId": "ef854c30-d996-46a4-8238-c4e586c610e6"
      },
      "source": [
        "print('correlation coefficient of random forest = ', stress_rf.score(predict_stress.X_tst, predict_stress.y_tst))\n",
        "# get_coefs(predict_stress.X.columns, stress_rf.feature_importances_)"
      ],
      "execution_count": null,
      "outputs": [
        {
          "output_type": "stream",
          "text": [
            "correlation coefficient of random forest =  0.23210778049022832\n"
          ],
          "name": "stdout"
        }
      ]
    },
    {
      "cell_type": "markdown",
      "metadata": {
        "id": "AbFOIWi52nB4"
      },
      "source": [
        "**What if we exclude age and gender?**\n",
        "\n",
        "Although `age` and `gender` are considered important features in predicting `achievement` and `daily_stress`, they are not helpful in providing suggestions on adjusting our lifestyle  to optimize our wellbeings. (normally we cannot adjust our age :( )\n",
        "\n",
        "Since we desire a less complex model with less features, why not try to fit models without `age` and `gender` and see their performances?"
      ]
    },
    {
      "cell_type": "markdown",
      "metadata": {
        "id": "GHdUImGA32aL"
      },
      "source": [
        "**For `achievement`**"
      ]
    },
    {
      "cell_type": "code",
      "metadata": {
        "id": "Z6Eb3ScILaLQ"
      },
      "source": [
        "# fit model to predict achievement \n",
        "predict_achieve_new = achievement(exclude=True)\n",
        "achieve_lasso_new = predict_achieve_new.fit_lasso() # fit LASSO model\n",
        "achieve_rf_new = predict_achieve_new.fit_rf() # fit Random Forest model\n",
        " # might take a minute to run, along with warning messages"
      ],
      "execution_count": null,
      "outputs": []
    },
    {
      "cell_type": "code",
      "metadata": {
        "colab": {
          "base_uri": "https://localhost:8080/"
        },
        "id": "55018iFfLrww",
        "outputId": "00e8ab57-1e25-4bea-be83-beb3143391cb"
      },
      "source": [
        "print('coefficient of determination of lasso model = ', \n",
        "      achieve_lasso_new.score(predict_achieve_new.X, predict_achieve_new.y)) # r2 value of fitted model\n",
        "# get_coefs(predict_achieve_new.X.columns, achieve_lasso_new.coef_)"
      ],
      "execution_count": null,
      "outputs": [
        {
          "output_type": "stream",
          "text": [
            "coefficient of determination of lasso model =  0.3431555626320285\n"
          ],
          "name": "stdout"
        }
      ]
    },
    {
      "cell_type": "code",
      "metadata": {
        "colab": {
          "base_uri": "https://localhost:8080/"
        },
        "id": "stkcpraEL-aH",
        "outputId": "ed37c98c-aed9-41e1-df45-d95c77e07e47"
      },
      "source": [
        "print('coefficient of determination of random forest = ', \n",
        "      achieve_rf_new.score(predict_achieve_new.X_tst, predict_achieve_new.y_tst))\n",
        "# get_coefs(predict_achieve_new.X.columns, achieve_rf_new.feature_importances_)"
      ],
      "execution_count": null,
      "outputs": [
        {
          "output_type": "stream",
          "text": [
            "coefficient of determination of random forest =  0.38107627137427\n"
          ],
          "name": "stdout"
        }
      ]
    },
    {
      "cell_type": "markdown",
      "metadata": {
        "id": "ecxxS9n34Clx"
      },
      "source": [
        "The results are almost the same as the full model. "
      ]
    },
    {
      "cell_type": "markdown",
      "metadata": {
        "id": "Lv5LonFk37JZ"
      },
      "source": [
        "**For `daily stress`**"
      ]
    },
    {
      "cell_type": "code",
      "metadata": {
        "id": "-FHttAkae3Ij"
      },
      "source": [
        "# fit model to predict stress\n",
        "predict_stress_new = daily_stress(exclude=True)\n",
        "stress_lasso_new = predict_stress_new.fit_lasso() # fit LASSO model\n",
        "stress_rf_new = predict_stress_new.fit_rf() # fit Random Forest model\n",
        "# might take a minute to run, along with warning messages"
      ],
      "execution_count": null,
      "outputs": []
    },
    {
      "cell_type": "code",
      "metadata": {
        "colab": {
          "base_uri": "https://localhost:8080/"
        },
        "id": "A8irdK7_e7kp",
        "outputId": "33c26c30-8e61-4d9d-a230-e885e4267771"
      },
      "source": [
        "print('correlation coefficient of lasso model = ', \n",
        "      stress_lasso_new.score(predict_stress_new.X, predict_stress_new.y)) # r2 value of fitted model"
      ],
      "execution_count": null,
      "outputs": [
        {
          "output_type": "stream",
          "text": [
            "correlation coefficient of lasso model =  0.19440597667937842\n"
          ],
          "name": "stdout"
        }
      ]
    },
    {
      "cell_type": "code",
      "metadata": {
        "colab": {
          "base_uri": "https://localhost:8080/"
        },
        "id": "O6EaRoGAe9ZT",
        "outputId": "3cf9b3e8-d39b-4101-eacd-7c55575c5d4e"
      },
      "source": [
        "print('correlation coefficient of random forest = ', \n",
        "      stress_rf_new.score(predict_stress_new.X_tst, predict_stress_new.y_tst))\n"
      ],
      "execution_count": null,
      "outputs": [
        {
          "output_type": "stream",
          "text": [
            "correlation coefficient of random forest =  0.22100434911025366\n"
          ],
          "name": "stdout"
        }
      ]
    },
    {
      "cell_type": "markdown",
      "metadata": {
        "id": "RClSWVW94MdJ"
      },
      "source": [
        "The results are almost the same as the full model. "
      ]
    },
    {
      "cell_type": "markdown",
      "metadata": {
        "id": "EEahTjqOm4x6"
      },
      "source": [
        "**Therefore, we can use the simpler models instead.**"
      ]
    },
    {
      "cell_type": "markdown",
      "metadata": {
        "id": "QHgmmT2XDXSu"
      },
      "source": [
        "# Conclusion"
      ]
    },
    {
      "cell_type": "markdown",
      "metadata": {
        "id": "PHcoO6O7neI6"
      },
      "source": [
        "The models do not reveal any causations between the features and responses. For instance, we would not know if more `daily shouting` leads to more stress or if it's in the opposite direction. But the models still revealed some cool insights on what factors closely relate to a high achieving and less stressful life.\n",
        "\n",
        "We can take a look at the coefficients of selected features of each model:\n",
        "\n"
      ]
    },
    {
      "cell_type": "code",
      "metadata": {
        "id": "tcKRB0DLuOSk"
      },
      "source": [
        "# display selected features and their coefficients in a nicer way\n",
        "def get_coefs(coef_name, coef_matrix, display=False):\n",
        "  coefs = {k:v for (k, v) in zip(coef_name, coef_matrix) if abs(v)>= 0.01}\n",
        "  table = pd.DataFrame(coefs, index=[0])\n",
        "  return table.transpose()"
      ],
      "execution_count": null,
      "outputs": []
    },
    {
      "cell_type": "code",
      "metadata": {
        "id": "PUwmTBaYyOve"
      },
      "source": [
        "from IPython.display import display_html"
      ],
      "execution_count": null,
      "outputs": []
    },
    {
      "cell_type": "code",
      "metadata": {
        "colab": {
          "base_uri": "https://localhost:8080/",
          "height": 414
        },
        "id": "NH3B0j6nv4v0",
        "outputId": "e1cc8f2e-7f41-43dc-a73d-a219e128049a"
      },
      "source": [
        "achieve_lasso_coef = get_coefs(predict_achieve_new.X.columns, achieve_lasso_new.coef_)\n",
        "stress_lasso_coef = get_coefs(predict_stress_new.X.columns, stress_lasso_new.coef_)\n",
        "\n",
        "# displays two tables side by side\n",
        "achieve_lasso_coef_styler = achieve_lasso_coef.style.set_table_attributes(\"style='display:inline'\").set_caption('Achievement lasso')\n",
        "stress_lasso_coef_styler = stress_lasso_coef.style.set_table_attributes(\"style='display:inline'\").set_caption('Stress lasso')\n",
        "\n",
        "display_html(achieve_lasso_coef_styler._repr_html_()+stress_lasso_coef_styler._repr_html_(), raw=True)\n"
      ],
      "execution_count": null,
      "outputs": [
        {
          "output_type": "display_data",
          "data": {
            "text/html": [
              "<style  type=\"text/css\" >\n",
              "</style><table id=\"T_f13ddeb4_39d0_11eb_a95c_0242ac1c0002\" style='display:inline'><caption>Achievement lasso</caption><thead>    <tr>        <th class=\"blank level0\" ></th>        <th class=\"col_heading level0 col0\" >0</th>    </tr></thead><tbody>\n",
              "                <tr>\n",
              "                        <th id=\"T_f13ddeb4_39d0_11eb_a95c_0242ac1c0002level0_row0\" class=\"row_heading level0 row0\" >fruits_veggies</th>\n",
              "                        <td id=\"T_f13ddeb4_39d0_11eb_a95c_0242ac1c0002row0_col0\" class=\"data row0 col0\" >-0.016095</td>\n",
              "            </tr>\n",
              "            <tr>\n",
              "                        <th id=\"T_f13ddeb4_39d0_11eb_a95c_0242ac1c0002level0_row1\" class=\"row_heading level0 row1\" >places_visited</th>\n",
              "                        <td id=\"T_f13ddeb4_39d0_11eb_a95c_0242ac1c0002row1_col0\" class=\"data row1 col0\" >0.052556</td>\n",
              "            </tr>\n",
              "            <tr>\n",
              "                        <th id=\"T_f13ddeb4_39d0_11eb_a95c_0242ac1c0002level0_row2\" class=\"row_heading level0 row2\" >core_circle</th>\n",
              "                        <td id=\"T_f13ddeb4_39d0_11eb_a95c_0242ac1c0002row2_col0\" class=\"data row2 col0\" >0.060320</td>\n",
              "            </tr>\n",
              "            <tr>\n",
              "                        <th id=\"T_f13ddeb4_39d0_11eb_a95c_0242ac1c0002level0_row3\" class=\"row_heading level0 row3\" >supporting_others</th>\n",
              "                        <td id=\"T_f13ddeb4_39d0_11eb_a95c_0242ac1c0002row3_col0\" class=\"data row3 col0\" >0.085887</td>\n",
              "            </tr>\n",
              "            <tr>\n",
              "                        <th id=\"T_f13ddeb4_39d0_11eb_a95c_0242ac1c0002level0_row4\" class=\"row_heading level0 row4\" >social_network</th>\n",
              "                        <td id=\"T_f13ddeb4_39d0_11eb_a95c_0242ac1c0002row4_col0\" class=\"data row4 col0\" >0.035021</td>\n",
              "            </tr>\n",
              "            <tr>\n",
              "                        <th id=\"T_f13ddeb4_39d0_11eb_a95c_0242ac1c0002level0_row5\" class=\"row_heading level0 row5\" >donation</th>\n",
              "                        <td id=\"T_f13ddeb4_39d0_11eb_a95c_0242ac1c0002row5_col0\" class=\"data row5 col0\" >0.036719</td>\n",
              "            </tr>\n",
              "            <tr>\n",
              "                        <th id=\"T_f13ddeb4_39d0_11eb_a95c_0242ac1c0002level0_row6\" class=\"row_heading level0 row6\" >todo_completed</th>\n",
              "                        <td id=\"T_f13ddeb4_39d0_11eb_a95c_0242ac1c0002row6_col0\" class=\"data row6 col0\" >0.074221</td>\n",
              "            </tr>\n",
              "            <tr>\n",
              "                        <th id=\"T_f13ddeb4_39d0_11eb_a95c_0242ac1c0002level0_row7\" class=\"row_heading level0 row7\" >flow</th>\n",
              "                        <td id=\"T_f13ddeb4_39d0_11eb_a95c_0242ac1c0002row7_col0\" class=\"data row7 col0\" >0.193389</td>\n",
              "            </tr>\n",
              "            <tr>\n",
              "                        <th id=\"T_f13ddeb4_39d0_11eb_a95c_0242ac1c0002level0_row8\" class=\"row_heading level0 row8\" >daily_steps</th>\n",
              "                        <td id=\"T_f13ddeb4_39d0_11eb_a95c_0242ac1c0002row8_col0\" class=\"data row8 col0\" >0.043231</td>\n",
              "            </tr>\n",
              "            <tr>\n",
              "                        <th id=\"T_f13ddeb4_39d0_11eb_a95c_0242ac1c0002level0_row9\" class=\"row_heading level0 row9\" >live_vision</th>\n",
              "                        <td id=\"T_f13ddeb4_39d0_11eb_a95c_0242ac1c0002row9_col0\" class=\"data row9 col0\" >0.089879</td>\n",
              "            </tr>\n",
              "            <tr>\n",
              "                        <th id=\"T_f13ddeb4_39d0_11eb_a95c_0242ac1c0002level0_row10\" class=\"row_heading level0 row10\" >sleep_hours</th>\n",
              "                        <td id=\"T_f13ddeb4_39d0_11eb_a95c_0242ac1c0002row10_col0\" class=\"data row10 col0\" >0.022052</td>\n",
              "            </tr>\n",
              "            <tr>\n",
              "                        <th id=\"T_f13ddeb4_39d0_11eb_a95c_0242ac1c0002level0_row11\" class=\"row_heading level0 row11\" >lost_vacation</th>\n",
              "                        <td id=\"T_f13ddeb4_39d0_11eb_a95c_0242ac1c0002row11_col0\" class=\"data row11 col0\" >0.022032</td>\n",
              "            </tr>\n",
              "            <tr>\n",
              "                        <th id=\"T_f13ddeb4_39d0_11eb_a95c_0242ac1c0002level0_row12\" class=\"row_heading level0 row12\" >personal_awards</th>\n",
              "                        <td id=\"T_f13ddeb4_39d0_11eb_a95c_0242ac1c0002row12_col0\" class=\"data row12 col0\" >0.185525</td>\n",
              "            </tr>\n",
              "            <tr>\n",
              "                        <th id=\"T_f13ddeb4_39d0_11eb_a95c_0242ac1c0002level0_row13\" class=\"row_heading level0 row13\" >time_for_passion</th>\n",
              "                        <td id=\"T_f13ddeb4_39d0_11eb_a95c_0242ac1c0002row13_col0\" class=\"data row13 col0\" >0.111794</td>\n",
              "            </tr>\n",
              "            <tr>\n",
              "                        <th id=\"T_f13ddeb4_39d0_11eb_a95c_0242ac1c0002level0_row14\" class=\"row_heading level0 row14\" >daily_meditation</th>\n",
              "                        <td id=\"T_f13ddeb4_39d0_11eb_a95c_0242ac1c0002row14_col0\" class=\"data row14 col0\" >0.022154</td>\n",
              "            </tr>\n",
              "            <tr>\n",
              "                        <th id=\"T_f13ddeb4_39d0_11eb_a95c_0242ac1c0002level0_row15\" class=\"row_heading level0 row15\" >bmi_range_1</th>\n",
              "                        <td id=\"T_f13ddeb4_39d0_11eb_a95c_0242ac1c0002row15_col0\" class=\"data row15 col0\" >0.122095</td>\n",
              "            </tr>\n",
              "            <tr>\n",
              "                        <th id=\"T_f13ddeb4_39d0_11eb_a95c_0242ac1c0002level0_row16\" class=\"row_heading level0 row16\" >sufficient_income_1</th>\n",
              "                        <td id=\"T_f13ddeb4_39d0_11eb_a95c_0242ac1c0002row16_col0\" class=\"data row16 col0\" >0.050314</td>\n",
              "            </tr>\n",
              "    </tbody></table><style  type=\"text/css\" >\n",
              "</style><table id=\"T_f13e3ad0_39d0_11eb_a95c_0242ac1c0002\" style='display:inline'><caption>Stress lasso</caption><thead>    <tr>        <th class=\"blank level0\" ></th>        <th class=\"col_heading level0 col0\" >0</th>    </tr></thead><tbody>\n",
              "                <tr>\n",
              "                        <th id=\"T_f13e3ad0_39d0_11eb_a95c_0242ac1c0002level0_row0\" class=\"row_heading level0 row0\" >places_visited</th>\n",
              "                        <td id=\"T_f13e3ad0_39d0_11eb_a95c_0242ac1c0002row0_col0\" class=\"data row0 col0\" >-0.010485</td>\n",
              "            </tr>\n",
              "            <tr>\n",
              "                        <th id=\"T_f13e3ad0_39d0_11eb_a95c_0242ac1c0002level0_row1\" class=\"row_heading level0 row1\" >core_circle</th>\n",
              "                        <td id=\"T_f13e3ad0_39d0_11eb_a95c_0242ac1c0002row1_col0\" class=\"data row1 col0\" >-0.025185</td>\n",
              "            </tr>\n",
              "            <tr>\n",
              "                        <th id=\"T_f13e3ad0_39d0_11eb_a95c_0242ac1c0002level0_row2\" class=\"row_heading level0 row2\" >supporting_others</th>\n",
              "                        <td id=\"T_f13e3ad0_39d0_11eb_a95c_0242ac1c0002row2_col0\" class=\"data row2 col0\" >0.024170</td>\n",
              "            </tr>\n",
              "            <tr>\n",
              "                        <th id=\"T_f13e3ad0_39d0_11eb_a95c_0242ac1c0002level0_row3\" class=\"row_heading level0 row3\" >social_network</th>\n",
              "                        <td id=\"T_f13e3ad0_39d0_11eb_a95c_0242ac1c0002row3_col0\" class=\"data row3 col0\" >0.025587</td>\n",
              "            </tr>\n",
              "            <tr>\n",
              "                        <th id=\"T_f13e3ad0_39d0_11eb_a95c_0242ac1c0002level0_row4\" class=\"row_heading level0 row4\" >donation</th>\n",
              "                        <td id=\"T_f13e3ad0_39d0_11eb_a95c_0242ac1c0002row4_col0\" class=\"data row4 col0\" >0.014233</td>\n",
              "            </tr>\n",
              "            <tr>\n",
              "                        <th id=\"T_f13e3ad0_39d0_11eb_a95c_0242ac1c0002level0_row5\" class=\"row_heading level0 row5\" >todo_completed</th>\n",
              "                        <td id=\"T_f13e3ad0_39d0_11eb_a95c_0242ac1c0002row5_col0\" class=\"data row5 col0\" >-0.021895</td>\n",
              "            </tr>\n",
              "            <tr>\n",
              "                        <th id=\"T_f13e3ad0_39d0_11eb_a95c_0242ac1c0002level0_row6\" class=\"row_heading level0 row6\" >flow</th>\n",
              "                        <td id=\"T_f13e3ad0_39d0_11eb_a95c_0242ac1c0002row6_col0\" class=\"data row6 col0\" >-0.035151</td>\n",
              "            </tr>\n",
              "            <tr>\n",
              "                        <th id=\"T_f13e3ad0_39d0_11eb_a95c_0242ac1c0002level0_row7\" class=\"row_heading level0 row7\" >live_vision</th>\n",
              "                        <td id=\"T_f13e3ad0_39d0_11eb_a95c_0242ac1c0002row7_col0\" class=\"data row7 col0\" >-0.019799</td>\n",
              "            </tr>\n",
              "            <tr>\n",
              "                        <th id=\"T_f13e3ad0_39d0_11eb_a95c_0242ac1c0002level0_row8\" class=\"row_heading level0 row8\" >sleep_hours</th>\n",
              "                        <td id=\"T_f13e3ad0_39d0_11eb_a95c_0242ac1c0002row8_col0\" class=\"data row8 col0\" >-0.082710</td>\n",
              "            </tr>\n",
              "            <tr>\n",
              "                        <th id=\"T_f13e3ad0_39d0_11eb_a95c_0242ac1c0002level0_row9\" class=\"row_heading level0 row9\" >lost_vacation</th>\n",
              "                        <td id=\"T_f13e3ad0_39d0_11eb_a95c_0242ac1c0002row9_col0\" class=\"data row9 col0\" >0.048816</td>\n",
              "            </tr>\n",
              "            <tr>\n",
              "                        <th id=\"T_f13e3ad0_39d0_11eb_a95c_0242ac1c0002level0_row10\" class=\"row_heading level0 row10\" >daily_shouting</th>\n",
              "                        <td id=\"T_f13e3ad0_39d0_11eb_a95c_0242ac1c0002row10_col0\" class=\"data row10 col0\" >0.128004</td>\n",
              "            </tr>\n",
              "            <tr>\n",
              "                        <th id=\"T_f13e3ad0_39d0_11eb_a95c_0242ac1c0002level0_row11\" class=\"row_heading level0 row11\" >personal_awards</th>\n",
              "                        <td id=\"T_f13e3ad0_39d0_11eb_a95c_0242ac1c0002row11_col0\" class=\"data row11 col0\" >0.016014</td>\n",
              "            </tr>\n",
              "            <tr>\n",
              "                        <th id=\"T_f13e3ad0_39d0_11eb_a95c_0242ac1c0002level0_row12\" class=\"row_heading level0 row12\" >time_for_passion</th>\n",
              "                        <td id=\"T_f13e3ad0_39d0_11eb_a95c_0242ac1c0002row12_col0\" class=\"data row12 col0\" >-0.033353</td>\n",
              "            </tr>\n",
              "            <tr>\n",
              "                        <th id=\"T_f13e3ad0_39d0_11eb_a95c_0242ac1c0002level0_row13\" class=\"row_heading level0 row13\" >daily_meditation</th>\n",
              "                        <td id=\"T_f13e3ad0_39d0_11eb_a95c_0242ac1c0002row13_col0\" class=\"data row13 col0\" >-0.056243</td>\n",
              "            </tr>\n",
              "            <tr>\n",
              "                        <th id=\"T_f13e3ad0_39d0_11eb_a95c_0242ac1c0002level0_row14\" class=\"row_heading level0 row14\" >bmi_range_1</th>\n",
              "                        <td id=\"T_f13e3ad0_39d0_11eb_a95c_0242ac1c0002row14_col0\" class=\"data row14 col0\" >-0.107393</td>\n",
              "            </tr>\n",
              "            <tr>\n",
              "                        <th id=\"T_f13e3ad0_39d0_11eb_a95c_0242ac1c0002level0_row15\" class=\"row_heading level0 row15\" >sufficient_income_1</th>\n",
              "                        <td id=\"T_f13e3ad0_39d0_11eb_a95c_0242ac1c0002row15_col0\" class=\"data row15 col0\" >0.274451</td>\n",
              "            </tr>\n",
              "    </tbody></table>"
            ]
          },
          "metadata": {
            "tags": []
          }
        }
      ]
    },
    {
      "cell_type": "markdown",
      "metadata": {
        "id": "ZmcEFvDZ-Ed9"
      },
      "source": [
        "`flow`, `personal awards`, `time for passion` and `bmi_range_1` positively contribute to `achievement`.\n",
        "\n",
        "This means that a **high achievement life** comes along with: \n",
        "- being fully immersed in performing an activity\n",
        "- pursuing personal interests\n",
        "- maintaining health\n",
        "\n",
        "`sleep hours`, `daily meditation` and `bmi_range_1` have stronger effects in reducing `daily_stress`. By the way, meditation does not mean immersing ourselves in deep thought. The exact question for `daily meditation` in the survey is :\"In a typical week, how many times do you have the opportunity to think about yourself? Include meditation, praying and relaxation activities such as fitness, walking in a park or lunch breaks\". This indicates that simply giving ourselves some time to disconnect with our work can also reduce stress.\n",
        "\n",
        "Hence a **low stress life** comes along with:\n",
        "- getting enough sleep (important!)\n",
        "- giving yourself some time to meditate\n",
        "- maintaining health"
      ]
    },
    {
      "cell_type": "markdown",
      "metadata": {
        "id": "gjrei6VjBoD_"
      },
      "source": [
        "These findings lead to our main conclusion that to maintain a work life balance, we should **dedicate more to our wellbeings**. During busy times, I have skipped meals, stayed up late and sticked in front of the computer for hours (and I know that many of you guys have similar experiences.) Such a lifestyle does helped me obtain my goals, but has physically and mentally hurted me on the other hand. From now on, I will attempt to go to gym, practice meditation for several minutes and get enough sleep every day. "
      ]
    },
    {
      "cell_type": "markdown",
      "metadata": {
        "id": "hv41ElVE5d0K"
      },
      "source": [
        "\n",
        "---\n",
        "# Submission Guidelines (keep this section here)\n",
        "---\n",
        "\n",
        "\n",
        "When you are ready to submit your project, part of the submission process will be to register your notebook for reviewing.  \n",
        "\n",
        "You will also receive the links and instructions to do the peer reviews.\n",
        "\n",
        "Please review the metadata:"
      ]
    },
    {
      "cell_type": "code",
      "metadata": {
        "id": "VOUCKYCWBZDp"
      },
      "source": [
        "def get_metadata():\n",
        "  meta = {\n",
        "          \"title\": PROJECT_TITLE, # keep this as is\n",
        "          \"nb_id\": NOTEBOOK_ID,   # keep this as is\n",
        "\n",
        "          # permissions\n",
        "          # do you give the instructor the permission to copy this project\n",
        "          # and allow others to view it in the class gallery?\n",
        "          \"allow_gallery\": True,\n",
        "          \n",
        "          # if your project is made viewable to others,\n",
        "          # do you want to include your name (first/last)?\n",
        "          \"allow_name_release\": True,\n",
        "\n",
        "          'data' : 'https://drive.google.com/uc?export=download&id=18zSk8UIDRfWvdo1E_ksfdSzbdxU7j20q'\n",
        "          }\n",
        "  return meta"
      ],
      "execution_count": null,
      "outputs": []
    },
    {
      "cell_type": "markdown",
      "metadata": {
        "id": "-_C-G52O29MM"
      },
      "source": [
        "Specific instructions will come for what to submit for the various milestones.\n",
        "\n",
        "If necessary, you can download the Python version of this notebook by using the `File->Download .py` as well as the notebook itself `File->Download .ipynb`.\n",
        "\n"
      ]
    }
  ]
}